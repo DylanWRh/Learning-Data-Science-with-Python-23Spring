{
 "cells": [
  {
   "attachments": {},
   "cell_type": "markdown",
   "metadata": {},
   "source": [
    "# Homework 6\n",
    "任课老师：胡俊峰\n",
    "\n",
    "负责助教：苏亚鲁、李浩然\n",
    "\n",
    "注意：仅需要提交.ipynb文件，请**不要**将下发压缩包中的其他文件一并交上。\n",
    "\n",
    "截止日期：3月18日24点"
   ]
  },
  {
   "attachments": {},
   "cell_type": "markdown",
   "metadata": {},
   "source": [
    "## 第零部分 代码理解\n",
    "### 0.1 阅读代码预测结果，分析结果是否如预期，并按要求填充代码行，实现功能。"
   ]
  },
  {
   "cell_type": "code",
   "execution_count": 1,
   "metadata": {},
   "outputs": [
    {
     "name": "stdout",
     "output_type": "stream",
     "text": [
      "   a  b\n",
      "0  1  2\n",
      "1  3  4\n",
      "0    1\n",
      "1    3\n",
      "Name: a, dtype: int64\n"
     ]
    }
   ],
   "source": [
    "import pandas as pd\n",
    "df = pd.DataFrame([[1, 2], [3, 4]], columns = ['a','b'])\n",
    "print(df)\n",
    "print(df['a']) \n",
    "\n",
    "# 预期\n",
    "#   a b\n",
    "# 0 1 2\n",
    "# 1 3 4\n",
    "\n",
    "# 0 1\n",
    "# 1 3"
   ]
  },
  {
   "cell_type": "code",
   "execution_count": 2,
   "metadata": {},
   "outputs": [
    {
     "name": "stdout",
     "output_type": "stream",
     "text": [
      "   0  1\n",
      "a  1  3\n",
      "b  2  4\n",
      "3\n"
     ]
    }
   ],
   "source": [
    "# 理解那个是0号索引\n",
    "dft = df.T           \n",
    "print(dft)\n",
    "print(dft[1]['a'])  #  print(dft['a'][1] ?)\n",
    "\n",
    "# 预测\n",
    "#   0 1\n",
    "# a 1 3\n",
    "# b 2 4\n",
    "\n",
    "# 3\n",
    "\n",
    "# 用dft['a'][1]会报KeyError"
   ]
  },
  {
   "cell_type": "code",
   "execution_count": 3,
   "metadata": {},
   "outputs": [
    {
     "name": "stdout",
     "output_type": "stream",
     "text": [
      "   a  b\n",
      "0  1  2\n",
      "1  3  4\n",
      "0  5  6\n",
      "1  7  8\n"
     ]
    }
   ],
   "source": [
    "df2 = pd.DataFrame([[5, 6], [7, 8]], columns = ['a','b'])\n",
    "df3 = pd.concat([df,df2])  # 尝试用一行代码，df1，df2的横向拼接？\n",
    "print(df3)\n",
    "\n",
    "# 预测\n",
    "#   a b\n",
    "# 0 1 2\n",
    "# 1 3 4\n",
    "# 0 5 6\n",
    "# 1 7 8"
   ]
  },
  {
   "cell_type": "code",
   "execution_count": 4,
   "metadata": {},
   "outputs": [
    {
     "name": "stdout",
     "output_type": "stream",
     "text": [
      "0    2\n",
      "1    4\n",
      "Name: b, dtype: int64\n"
     ]
    }
   ],
   "source": [
    "# 请填充一行代码，实现打印 ‘b’列的值 <6 的df3的子视图\n",
    "print(df3['b'][df3['b'] < 6])"
   ]
  },
  {
   "cell_type": "code",
   "execution_count": 5,
   "metadata": {},
   "outputs": [
    {
     "name": "stdout",
     "output_type": "stream",
     "text": [
      "   A  B\n",
      "0  4  9\n",
      "1  4  9\n",
      "2  4  9\n"
     ]
    }
   ],
   "source": [
    "df = pd.DataFrame([[4, 9]] * 3, columns=['A', 'B'])\n",
    "print(df)\n",
    "# 预测\n",
    "#   A B\n",
    "# 0 4 9\n",
    "# 1 4 9\n",
    "# 2 4 9"
   ]
  },
  {
   "cell_type": "markdown",
   "metadata": {},
   "source": [
    "dataframe.apply(function,axis)对一行或一列做出一些操作（axis=1遍历行，axis=0遍历列），可以使用匿名函数。"
   ]
  },
  {
   "cell_type": "code",
   "execution_count": 6,
   "metadata": {},
   "outputs": [
    {
     "name": "stdout",
     "output_type": "stream",
     "text": [
      "A    12\n",
      "B    27\n",
      "dtype: int64\n",
      "0    13\n",
      "1    13\n",
      "2    13\n",
      "dtype: int64\n"
     ]
    }
   ],
   "source": [
    "import numpy as np\n",
    "print(df.apply(np.sum))\n",
    "print(df.apply(np.sum, axis=1))\n",
    "# 预测\n",
    "#  A  B\n",
    "# 12 27\n",
    "\n",
    "# 0 13\n",
    "# 1 13\n",
    "# 2 13"
   ]
  },
  {
   "cell_type": "code",
   "execution_count": 7,
   "metadata": {},
   "outputs": [
    {
     "data": {
      "text/plain": [
       "0    [1, 2]\n",
       "1    [1, 2]\n",
       "2    [1, 2]\n",
       "dtype: object"
      ]
     },
     "execution_count": 7,
     "metadata": {},
     "output_type": "execute_result"
    }
   ],
   "source": [
    "df.apply(lambda x: [1, 2], axis=1)\n",
    "# 预测\n",
    "# 0 [1, 2]\n",
    "# 1 [1, 2]\n",
    "# 2 [1, 2]"
   ]
  },
  {
   "cell_type": "code",
   "execution_count": 8,
   "metadata": {},
   "outputs": [
    {
     "data": {
      "text/html": [
       "<div>\n",
       "<style scoped>\n",
       "    .dataframe tbody tr th:only-of-type {\n",
       "        vertical-align: middle;\n",
       "    }\n",
       "\n",
       "    .dataframe tbody tr th {\n",
       "        vertical-align: top;\n",
       "    }\n",
       "\n",
       "    .dataframe thead th {\n",
       "        text-align: right;\n",
       "    }\n",
       "</style>\n",
       "<table border=\"1\" class=\"dataframe\">\n",
       "  <thead>\n",
       "    <tr style=\"text-align: right;\">\n",
       "      <th></th>\n",
       "      <th>0</th>\n",
       "      <th>1</th>\n",
       "    </tr>\n",
       "  </thead>\n",
       "  <tbody>\n",
       "    <tr>\n",
       "      <th>0</th>\n",
       "      <td>1</td>\n",
       "      <td>2</td>\n",
       "    </tr>\n",
       "    <tr>\n",
       "      <th>1</th>\n",
       "      <td>1</td>\n",
       "      <td>2</td>\n",
       "    </tr>\n",
       "    <tr>\n",
       "      <th>2</th>\n",
       "      <td>1</td>\n",
       "      <td>2</td>\n",
       "    </tr>\n",
       "  </tbody>\n",
       "</table>\n",
       "</div>"
      ],
      "text/plain": [
       "   0  1\n",
       "0  1  2\n",
       "1  1  2\n",
       "2  1  2"
      ]
     },
     "execution_count": 8,
     "metadata": {},
     "output_type": "execute_result"
    }
   ],
   "source": [
    "df.apply(lambda x: [1, 2], axis=1, result_type='expand')\n",
    "# 预测\n",
    "#   0 1\n",
    "# 0 1 2\n",
    "# 1 1 2\n",
    "# 2 1 2"
   ]
  },
  {
   "cell_type": "markdown",
   "metadata": {},
   "source": [
    "### 0.2 请认真阅读并运行以下示例代码，并思考C/S的多进程、多线程以及下面代码中select实现方式的优缺点。\n",
    "注：文件夹下的example_client.py为本思考题对应的客户端文件。client.py为第一部分网络编程对应的客户端文件。（两个客户端均无需改动）"
   ]
  },
  {
   "cell_type": "code",
   "execution_count": 9,
   "metadata": {},
   "outputs": [
    {
     "name": "stdout",
     "output_type": "stream",
     "text": [
      "new connection from ('127.0.0.1', 7916)\n",
      "new connection from ('127.0.0.1', 7917)\n",
      "收到来自[127.0.0.1]的数据: b'This is the message. '\n",
      "收到来自[127.0.0.1]的数据: b'This is the message. '\n",
      "收到来自[127.0.0.1]的数据: b'It will be sent '\n",
      "收到来自[127.0.0.1]的数据: b'It will be sent '\n",
      "收到来自[127.0.0.1]的数据: b'in parts.'\n",
      "收到来自[127.0.0.1]的数据: b'in parts.'\n",
      "客户端断开了\n",
      "客户端断开了\n"
     ]
    },
    {
     "ename": "KeyboardInterrupt",
     "evalue": "",
     "output_type": "error",
     "traceback": [
      "\u001b[1;31m---------------------------------------------------------------------------\u001b[0m",
      "\u001b[1;31mKeyboardInterrupt\u001b[0m                         Traceback (most recent call last)",
      "\u001b[1;32m~\\AppData\\Local\\Temp\\ipykernel_14792\\659472971.py\u001b[0m in \u001b[0;36m<module>\u001b[1;34m\u001b[0m\n\u001b[0;32m     19\u001b[0m \u001b[1;33m\u001b[0m\u001b[0m\n\u001b[0;32m     20\u001b[0m \u001b[1;32mwhile\u001b[0m \u001b[1;32mTrue\u001b[0m\u001b[1;33m:\u001b[0m\u001b[1;33m\u001b[0m\u001b[1;33m\u001b[0m\u001b[0m\n\u001b[1;32m---> 21\u001b[1;33m     \u001b[0mrlist\u001b[0m\u001b[1;33m,\u001b[0m \u001b[0mwlist\u001b[0m\u001b[1;33m,\u001b[0m \u001b[0melist\u001b[0m \u001b[1;33m=\u001b[0m \u001b[0mselect\u001b[0m\u001b[1;33m.\u001b[0m\u001b[0mselect\u001b[0m\u001b[1;33m(\u001b[0m\u001b[0minputs\u001b[0m\u001b[1;33m,\u001b[0m\u001b[0moutputs\u001b[0m\u001b[1;33m,\u001b[0m\u001b[0minputs\u001b[0m\u001b[1;33m)\u001b[0m \u001b[1;31m#如果没有任何fd就绪,那程序就会一直阻塞在这里\u001b[0m\u001b[1;33m\u001b[0m\u001b[1;33m\u001b[0m\u001b[0m\n\u001b[0m\u001b[0;32m     22\u001b[0m \u001b[1;33m\u001b[0m\u001b[0m\n\u001b[0;32m     23\u001b[0m     \u001b[1;32mfor\u001b[0m \u001b[0mr\u001b[0m \u001b[1;32min\u001b[0m \u001b[0mrlist\u001b[0m\u001b[1;33m:\u001b[0m  \u001b[1;31m# 遍历已经可以准备读取数据的 fd\u001b[0m\u001b[1;33m\u001b[0m\u001b[1;33m\u001b[0m\u001b[0m\n",
      "\u001b[1;31mKeyboardInterrupt\u001b[0m: "
     ]
    }
   ],
   "source": [
    "import select\n",
    "from socket import *\n",
    "import sys\n",
    "import queue\n",
    "\n",
    "# 生成socket对象\n",
    "server = socket(AF_INET, SOCK_STREAM)\n",
    "server.setsockopt(SOL_SOCKET, SO_REUSEADDR, 1)\n",
    "server.setblocking(False)\n",
    "\n",
    "# 绑定地址，设置监听\n",
    "server.bind(('localhost',9999))\n",
    "server.listen(5)\n",
    "\n",
    "# 将自己也放进待监测列表里\n",
    "inputs = [server, ]\n",
    "outputs = []\n",
    "message_queues = {}\n",
    "\n",
    "while True:\n",
    "    rlist, wlist, elist = select.select(inputs,outputs,inputs) #如果没有任何fd就绪,那程序就会一直阻塞在这里\n",
    "\n",
    "    for r in rlist:  # 遍历已经可以准备读取数据的 fd\n",
    "        if r is server: # 如果这个 fd 是server，即 server 有数据待接收读取，说明有新的客户端连接过来了\n",
    "            conn, client_addr = r.accept()\n",
    "            print(\"new connection from\",client_addr)\n",
    "            conn.setblocking(False)\n",
    "            inputs.append(conn) # 将这个新的客户端连接添加到检测的列表中\n",
    "            message_queues[conn] = queue.Queue() # 用队列存储客户端发送来的数据，等待服务器统一返回数据\n",
    "\n",
    "        else:          # 这个可读的 r 不是服务器，那就是某个客户端。就是说客户端发送数据过来了，这些数据处于待读取状态\n",
    "            try:       # 异常处理，这是为了防止客户端异常断开报错（比如手动关掉客户端黑窗口，服务器也会跟着报错退出）\n",
    "                data = r.recv(1024)\n",
    "                if data:    # 根据判断data是否为空，判断客户端是否断开\n",
    "                    print(\"收到来自[%s]的数据:\" % r.getpeername()[0], data)\n",
    "                    message_queues[r].put(data)   # 收到的数据先放到queue里,一会返回给客户端\n",
    "                    if r not in outputs:\n",
    "                        outputs.append(r)     # 放进可写的fd列表中，表明这些 fd 已经准备好去发送数据了。\n",
    "                else:   # 如果数据为空，表明客户端断开了\n",
    "                    print('客户端断开了')\n",
    "                    if r in outputs:\n",
    "                        outputs.remove(r)    #  清理已断开的连接\n",
    "                    inputs.remove(r)         # 清理已断开的连接\n",
    "                    del message_queues[r]    # 清理已断开的连接\n",
    "            except ConnectionResetError:     # 如果报错，说明客户端断开了\n",
    "                print(\"客户端异常断开了\", r)\n",
    "                if r in outputs:\n",
    "                    outputs.remove(r)   # 清理已断开的连接\n",
    "                inputs.remove(r)        # 清理已断开的连接\n",
    "                del message_queues[r]  # 清理已断开的连接\n",
    "\n",
    "    for w in wlist:       # 遍历可写的 fd 列表，即准备好发送数据的那些fd\n",
    "        # 判断队列是否为空\n",
    "        try :\n",
    "            next_msg = message_queues[w].get_nowait()\n",
    "        except queue.Empty:\n",
    "            # print(\"client [%s]\" % w.getpeername()[0], \"queue is empty..\")\n",
    "            outputs.remove(w)\n",
    "        # 队列不为空，就把队列中的数据改成大写，原样发回去\n",
    "        else:\n",
    "            # print(\"sending msg to [%s]\"% w.getpeername()[0], next_msg)\n",
    "            w.send(next_msg.upper())\n",
    "\n",
    "    for e in elist:   # 处理报错的 fd\n",
    "        e.close()\n",
    "        print(\"Error occured in \",e.getpeername())\n",
    "        inputs.remove(e)\n",
    "        if e in outputs:\n",
    "            outputs.remove(e)\n",
    "        del message_queues[e]"
   ]
  },
  {
   "attachments": {},
   "cell_type": "markdown",
   "metadata": {},
   "source": [
    "## 第一部分：网络编程 (2.5分)"
   ]
  },
  {
   "attachments": {},
   "cell_type": "markdown",
   "metadata": {},
   "source": [
    "### 请将下列代码补充完整，从而实现如下功能：\n",
    "**功能：**\n",
    "* 为每个socket注册用户名，并检查用户名是否已经存在。若已经存在，则发送'Username already exists!'；否则发送'Welcome!'。(1.5分)\n",
    "* 将注册成功的用户发送的信息，转发给其他的注册成功的用户。(1分)\n",
    "\n",
    "**注：**\n",
    "当补充完整代码后，可以运行client.py进行检验，其预期的输出为：\\\n",
    "connecting to localhost port 服务器端口 \\\n",
    "Welcome!to 第一个客户端端口 \\\n",
    "Username already exists!to 第二个客户端端口 \\\n",
    "Welcome!to 第二个客户端端口 \\\n",
    "Hello everybody!to 第二个客户端端口 "
   ]
  },
  {
   "cell_type": "code",
   "execution_count": 146,
   "metadata": {},
   "outputs": [
    {
     "name": "stdout",
     "output_type": "stream",
     "text": [
      "new connection from ('127.0.0.1', 14095)\n",
      "new connection from ('127.0.0.1', 14096)\n",
      "收到来自[14095]的数据: Zhang San\n",
      "收到来自[14096]的数据: Zhang San\n",
      "发送数据到 [127.0.0.1] b'Welcome!'\n",
      "发送数据到 [127.0.0.1] b'Username already exists!'\n",
      "收到来自[14096]的数据: Xiao Ming\n",
      "发送数据到 [127.0.0.1] b'Welcome!'\n",
      "收到来自[14095]的数据: Hello everybody!\n",
      "发送数据到 [127.0.0.1] b'Hello everybody!'\n",
      "客户端断开了\n",
      "客户端断开了\n"
     ]
    },
    {
     "ename": "KeyboardInterrupt",
     "evalue": "",
     "output_type": "error",
     "traceback": [
      "\u001b[1;31m---------------------------------------------------------------------------\u001b[0m",
      "\u001b[1;31mKeyboardInterrupt\u001b[0m                         Traceback (most recent call last)",
      "\u001b[1;32m~\\AppData\\Local\\Temp\\ipykernel_18452\\3015410107.py\u001b[0m in \u001b[0;36m<module>\u001b[1;34m\u001b[0m\n\u001b[0;32m     86\u001b[0m     \u001b[0mport\u001b[0m \u001b[1;33m=\u001b[0m \u001b[1;36m9999\u001b[0m           \u001b[1;31m# 端口号\u001b[0m\u001b[1;33m\u001b[0m\u001b[1;33m\u001b[0m\u001b[0m\n\u001b[0;32m     87\u001b[0m     \u001b[0mserver\u001b[0m \u001b[1;33m=\u001b[0m \u001b[0mServer\u001b[0m\u001b[1;33m(\u001b[0m\u001b[0mhost\u001b[0m\u001b[1;33m,\u001b[0m\u001b[0mport\u001b[0m\u001b[1;33m)\u001b[0m\u001b[1;33m\u001b[0m\u001b[1;33m\u001b[0m\u001b[0m\n\u001b[1;32m---> 88\u001b[1;33m     \u001b[0mserver\u001b[0m\u001b[1;33m.\u001b[0m\u001b[0maccept\u001b[0m\u001b[1;33m(\u001b[0m\u001b[1;33m)\u001b[0m\u001b[1;33m\u001b[0m\u001b[1;33m\u001b[0m\u001b[0m\n\u001b[0m",
      "\u001b[1;32m~\\AppData\\Local\\Temp\\ipykernel_18452\\3015410107.py\u001b[0m in \u001b[0;36maccept\u001b[1;34m(self)\u001b[0m\n\u001b[0;32m     18\u001b[0m     \u001b[1;32mdef\u001b[0m \u001b[0maccept\u001b[0m\u001b[1;33m(\u001b[0m\u001b[0mself\u001b[0m\u001b[1;33m)\u001b[0m\u001b[1;33m:\u001b[0m\u001b[1;33m\u001b[0m\u001b[1;33m\u001b[0m\u001b[0m\n\u001b[0;32m     19\u001b[0m         \u001b[1;32mwhile\u001b[0m \u001b[1;32mTrue\u001b[0m\u001b[1;33m:\u001b[0m\u001b[1;33m\u001b[0m\u001b[1;33m\u001b[0m\u001b[0m\n\u001b[1;32m---> 20\u001b[1;33m             \u001b[0mrs\u001b[0m\u001b[1;33m,\u001b[0m \u001b[0mws\u001b[0m\u001b[1;33m,\u001b[0m \u001b[0mxs\u001b[0m \u001b[1;33m=\u001b[0m \u001b[0mselect\u001b[0m\u001b[1;33m(\u001b[0m\u001b[0mself\u001b[0m\u001b[1;33m.\u001b[0m\u001b[0mrlist\u001b[0m\u001b[1;33m,\u001b[0m \u001b[0mself\u001b[0m\u001b[1;33m.\u001b[0m\u001b[0mwlist\u001b[0m\u001b[1;33m,\u001b[0m \u001b[0mself\u001b[0m\u001b[1;33m.\u001b[0m\u001b[0mrlist\u001b[0m\u001b[1;33m)\u001b[0m\u001b[1;33m\u001b[0m\u001b[1;33m\u001b[0m\u001b[0m\n\u001b[0m\u001b[0;32m     21\u001b[0m             \u001b[1;32mfor\u001b[0m \u001b[0mr\u001b[0m \u001b[1;32min\u001b[0m \u001b[0mrs\u001b[0m\u001b[1;33m:\u001b[0m\u001b[1;33m\u001b[0m\u001b[1;33m\u001b[0m\u001b[0m\n\u001b[0;32m     22\u001b[0m                 \u001b[1;32mif\u001b[0m \u001b[0mr\u001b[0m \u001b[1;32mis\u001b[0m \u001b[0mself\u001b[0m\u001b[1;33m.\u001b[0m\u001b[0mserver\u001b[0m\u001b[1;33m:\u001b[0m\u001b[1;33m\u001b[0m\u001b[1;33m\u001b[0m\u001b[0m\n",
      "\u001b[1;31mKeyboardInterrupt\u001b[0m: "
     ]
    }
   ],
   "source": [
    "from socket import *\n",
    "from select import select\n",
    "import queue\n",
    "\n",
    "class Server:\n",
    "    def __init__(self, host, port):\n",
    "        self.server = socket(AF_INET, SOCK_STREAM)\n",
    "        self.server.setsockopt(SOL_SOCKET, SO_REUSEADDR, 1)\n",
    "        self.server.setblocking(False)\n",
    "\n",
    "        self.server.bind((host, port))\n",
    "        self.server.listen(5)\n",
    "        self.rlist = [self.server]\n",
    "        self.wlist = []\n",
    "        self.message_queues = {}\n",
    "        self.users = {}  # 用于判断socket是否已经注册用户名\n",
    "\n",
    "    def accept(self):\n",
    "        while True:\n",
    "            rs, ws, xs = select(self.rlist, self.wlist, self.rlist)\n",
    "            for r in rs:\n",
    "                if r is self.server:\n",
    "                    # 服务器接受客户端连接\n",
    "                    conn, addr = self.server.accept()\n",
    "                    print(\"new connection from\",addr)\n",
    "                    conn.setblocking(False)\n",
    "                    self.rlist.append(conn)\n",
    "                    self.message_queues[conn] = queue.Queue()\n",
    "                    self.users[conn] = False\n",
    "                else:\n",
    "                    try:\n",
    "                        # 服务器接受客户端的消息并转发给所有客户端\n",
    "                        data = r.recv(1024)\n",
    "                        if data:\n",
    "                            print(\"收到来自[%s]的数据:\" % r.getpeername()[1], data.decode('utf-8'))\n",
    "                            if self.users[r]:  # 将已注册用户的信息广播给其他已注册用户\n",
    "                                # TODO\n",
    "                                for u in self.users:\n",
    "                                    if u not in self.wlist and u is not r and u is not self.server:\n",
    "                                        self.wlist.append(u)\n",
    "                                        self.message_queues[u] = queue.Queue()\n",
    "                                    self.message_queues[u].put(data)\n",
    "                            else:  # 对未注册用户发送的昵称进行检验，并进行注册\n",
    "                                # TODO\n",
    "                                if r not in self.wlist:\n",
    "                                    self.wlist.append(r)\n",
    "                                if data.decode('utf-8') in self.users.values():\n",
    "                                    self.message_queues[r].put('Username already exists!'.encode('utf-8'))\n",
    "                                else:\n",
    "                                    self.message_queues[r].put('Welcome!'.encode('utf-8'))\n",
    "                                    self.users[r] = data.decode('utf-8')\n",
    "                        else:\n",
    "                            print('客户端断开了')\n",
    "                            if r in self.wlist:\n",
    "                                self.wlist.remove(r)   # 清理已断开的连接\n",
    "                            self.rlist.remove(r)        # 清理已断开的连接\n",
    "                            del self.message_queues[r]  # 清理已断开的连接\n",
    "                    except ConnectionResetError:\n",
    "                        print(\"客户端异常断开了\", r)\n",
    "                        if r in self.wlist:\n",
    "                            self.wlist.remove(r)   # 清理已断开的连接\n",
    "                        self.rlist.remove(r)        # 清理已断开的连接\n",
    "                        del self.message_queues[r]  # 清理已断开的连接\n",
    "            for w in ws:       # 遍历可写的 fd 列表，即准备好发送数据的那些fd\n",
    "                # 判断队列是否为空\n",
    "                try :\n",
    "                    next_msg = self.message_queues[w].get_nowait()\n",
    "                except queue.Empty:\n",
    "                    # print(\"client [%s]\" % w.getpeername()[0], \"queue is empty..\")\n",
    "                    self.wlist.remove(w)\n",
    "                # 队列不为空，就把队列中的数据改成大写，原样发回去\n",
    "                else:\n",
    "                    print(\"发送数据到 [%s]\"% w.getpeername()[0], next_msg)\n",
    "                    w.send(next_msg)\n",
    "\n",
    "            for e in xs:   # 处理报错的 fd\n",
    "                e.close()\n",
    "                print(\"Error occured in \",e.getpeername())\n",
    "                self.rlist.remove(e)\n",
    "                if e in self.wlist:\n",
    "                    self.wlist.remove(e)\n",
    "                del self.message_queues[e] \n",
    "\n",
    "if __name__=='__main__':\n",
    "    host = '0.0.0.0'      # 主机名\n",
    "    port = 9999           # 端口号\n",
    "    server = Server(host,port)\n",
    "    server.accept()"
   ]
  },
  {
   "attachments": {},
   "cell_type": "markdown",
   "metadata": {},
   "source": [
    "## 第二部分 Pandas基础练习（4.5分）"
   ]
  },
  {
   "attachments": {},
   "cell_type": "markdown",
   "metadata": {},
   "source": [
    "### 2.1 基本操作"
   ]
  },
  {
   "cell_type": "code",
   "execution_count": 285,
   "metadata": {},
   "outputs": [],
   "source": [
    "import pandas as pd\n",
    "import numpy as np\n",
    "\n",
    "data = {\n",
    "    'age': [24, 53, 23, 24, 33, 42, 57, 57, 36, 29, 53, 39],\n",
    "    'gender': ['M', 'F', 'M', 'M', 'F', 'M', 'M', 'M', 'M', 'M', 'M', 'F'],\n",
    "    'occupation': ['technician', 'other', 'writer', 'technician', 'technician', 'executive', 'administrator', 'administrator', 'administrator', 'student', 'lawyer', 'other'],\n",
    "    'zip_code': ['85711', '94043', '32067', '43537', '15213', '98101', '91344', '91344', '05201', '01002', '90703', '30329']\n",
    "}"
   ]
  },
  {
   "attachments": {},
   "cell_type": "markdown",
   "metadata": {},
   "source": [
    "创建一组从1开始递增的id，作为行索引，由data生成一个DataFrame。并以gender分组，打印每组的前两条。（0.5分）"
   ]
  },
  {
   "cell_type": "code",
   "execution_count": 286,
   "metadata": {},
   "outputs": [
    {
     "data": {
      "text/html": [
       "<div>\n",
       "<style scoped>\n",
       "    .dataframe tbody tr th:only-of-type {\n",
       "        vertical-align: middle;\n",
       "    }\n",
       "\n",
       "    .dataframe tbody tr th {\n",
       "        vertical-align: top;\n",
       "    }\n",
       "\n",
       "    .dataframe thead th {\n",
       "        text-align: right;\n",
       "    }\n",
       "</style>\n",
       "<table border=\"1\" class=\"dataframe\">\n",
       "  <thead>\n",
       "    <tr style=\"text-align: right;\">\n",
       "      <th></th>\n",
       "      <th></th>\n",
       "      <th>age</th>\n",
       "      <th>gender</th>\n",
       "      <th>occupation</th>\n",
       "      <th>zip_code</th>\n",
       "    </tr>\n",
       "    <tr>\n",
       "      <th>gender</th>\n",
       "      <th></th>\n",
       "      <th></th>\n",
       "      <th></th>\n",
       "      <th></th>\n",
       "      <th></th>\n",
       "    </tr>\n",
       "  </thead>\n",
       "  <tbody>\n",
       "    <tr>\n",
       "      <th rowspan=\"2\" valign=\"top\">F</th>\n",
       "      <th>2</th>\n",
       "      <td>53</td>\n",
       "      <td>F</td>\n",
       "      <td>other</td>\n",
       "      <td>94043</td>\n",
       "    </tr>\n",
       "    <tr>\n",
       "      <th>5</th>\n",
       "      <td>33</td>\n",
       "      <td>F</td>\n",
       "      <td>technician</td>\n",
       "      <td>15213</td>\n",
       "    </tr>\n",
       "    <tr>\n",
       "      <th rowspan=\"2\" valign=\"top\">M</th>\n",
       "      <th>1</th>\n",
       "      <td>24</td>\n",
       "      <td>M</td>\n",
       "      <td>technician</td>\n",
       "      <td>85711</td>\n",
       "    </tr>\n",
       "    <tr>\n",
       "      <th>3</th>\n",
       "      <td>23</td>\n",
       "      <td>M</td>\n",
       "      <td>writer</td>\n",
       "      <td>32067</td>\n",
       "    </tr>\n",
       "  </tbody>\n",
       "</table>\n",
       "</div>"
      ],
      "text/plain": [
       "          age gender  occupation zip_code\n",
       "gender                                   \n",
       "F      2   53      F       other    94043\n",
       "       5   33      F  technician    15213\n",
       "M      1   24      M  technician    85711\n",
       "       3   23      M      writer    32067"
      ]
     },
     "execution_count": 286,
     "metadata": {},
     "output_type": "execute_result"
    }
   ],
   "source": [
    "# TODO\n",
    "df = pd.DataFrame(data, index=list(range(1, len(data['age'])+1)))\n",
    "df_gender_group = df.groupby('gender')\n",
    "df_gender_group.apply(lambda x: x.head(2))"
   ]
  },
  {
   "attachments": {},
   "cell_type": "markdown",
   "metadata": {},
   "source": [
    "删除DataFrame中重复的行（保留一行），再删除所有occupation为\"other\"的行。（0.5分）"
   ]
  },
  {
   "cell_type": "code",
   "execution_count": 287,
   "metadata": {},
   "outputs": [
    {
     "name": "stdout",
     "output_type": "stream",
     "text": [
      "    age gender     occupation zip_code\n",
      "1    24      M     technician    85711\n",
      "3    23      M         writer    32067\n",
      "4    24      M     technician    43537\n",
      "5    33      F     technician    15213\n",
      "6    42      M      executive    98101\n",
      "7    57      M  administrator    91344\n",
      "9    36      M  administrator    05201\n",
      "10   29      M        student    01002\n",
      "11   53      M         lawyer    90703\n"
     ]
    }
   ],
   "source": [
    "# TODO\n",
    "df = df.drop_duplicates()\n",
    "df = df.drop(df.loc[df['occupation'] == 'other'].index)\n",
    "print(df)"
   ]
  },
  {
   "attachments": {},
   "cell_type": "markdown",
   "metadata": {},
   "source": [
    "以两种方式访问DataFrame的第一行。（0.5分）"
   ]
  },
  {
   "cell_type": "code",
   "execution_count": 288,
   "metadata": {},
   "outputs": [
    {
     "name": "stdout",
     "output_type": "stream",
     "text": [
      "   age gender  occupation zip_code\n",
      "1   24      M  technician    85711\n",
      "-------------------------------------\n",
      "   age gender  occupation zip_code\n",
      "1   24      M  technician    85711\n"
     ]
    }
   ],
   "source": [
    "# TODO\n",
    "print(df[:1])\n",
    "print('-------------------------------------')\n",
    "print(df.iloc[:1])"
   ]
  },
  {
   "attachments": {},
   "cell_type": "markdown",
   "metadata": {},
   "source": [
    "以两种方式访问DataFrame的\"occupation\"列。（0.5分）"
   ]
  },
  {
   "cell_type": "code",
   "execution_count": 289,
   "metadata": {},
   "outputs": [
    {
     "name": "stdout",
     "output_type": "stream",
     "text": [
      "1        technician\n",
      "3            writer\n",
      "4        technician\n",
      "5        technician\n",
      "6         executive\n",
      "7     administrator\n",
      "9     administrator\n",
      "10          student\n",
      "11           lawyer\n",
      "Name: occupation, dtype: object\n",
      "-------------------------------------\n",
      "1        technician\n",
      "3            writer\n",
      "4        technician\n",
      "5        technician\n",
      "6         executive\n",
      "7     administrator\n",
      "9     administrator\n",
      "10          student\n",
      "11           lawyer\n",
      "Name: occupation, dtype: object\n"
     ]
    }
   ],
   "source": [
    "# TODO\n",
    "print(df['occupation'])\n",
    "print('-------------------------------------')\n",
    "print(df.occupation)"
   ]
  },
  {
   "attachments": {},
   "cell_type": "markdown",
   "metadata": {},
   "source": [
    "打印出DataFrame中出现次数最多的职业名称（0.5分）"
   ]
  },
  {
   "cell_type": "code",
   "execution_count": 290,
   "metadata": {},
   "outputs": [
    {
     "name": "stdout",
     "output_type": "stream",
     "text": [
      "technician\n"
     ]
    }
   ],
   "source": [
    "# TODO\n",
    "print(df['occupation'].value_counts().head(1).index[0])"
   ]
  },
  {
   "attachments": {},
   "cell_type": "markdown",
   "metadata": {},
   "source": [
    "将data_2转换成DataFrame，与上一个DataFrame按照\"zip_code\"这一列合并，按两种合并方式：（0.5分）\n",
    "\n",
    "1.合并后结果保留两个DataFrame的并集；\n",
    "\n",
    "2.合并后只保留data_2的所有数据。"
   ]
  },
  {
   "cell_type": "code",
   "execution_count": 291,
   "metadata": {},
   "outputs": [
    {
     "name": "stdout",
     "output_type": "stream",
     "text": [
      "     age gender     occupation zip_code     name\n",
      "0   24.0      M     technician    85711     Alan\n",
      "1   23.0      M         writer    32067      NaN\n",
      "2   24.0      M     technician    43537      NaN\n",
      "3   33.0      F     technician    15213  Abigail\n",
      "4   42.0      M      executive    98101      Bob\n",
      "5   57.0      M  administrator    91344      NaN\n",
      "6   36.0      M  administrator    05201      NaN\n",
      "7   29.0      M        student    01002      NaN\n",
      "8   53.0      M         lawyer    90703      NaN\n",
      "9    NaN    NaN            NaN    94043    Alice\n",
      "10   NaN    NaN            NaN    30329     Dave\n",
      "----------------------------------------\n",
      "    age gender  occupation zip_code     name\n",
      "0  24.0      M  technician    85711     Alan\n",
      "1   NaN    NaN         NaN    94043    Alice\n",
      "2  33.0      F  technician    15213  Abigail\n",
      "3  42.0      M   executive    98101      Bob\n",
      "4   NaN    NaN         NaN    30329     Dave\n"
     ]
    }
   ],
   "source": [
    "data_2 = {\n",
    "    'zip_code': ['85711', '94043', '15213', '98101', '30329'],\n",
    "    'name': ['Alan', 'Alice', 'Abigail', 'Bob', 'Dave']\n",
    "}\n",
    "df2 = pd.DataFrame(data_2)\n",
    "\n",
    "# TODO\n",
    "df_union_1 = pd.merge(df, df2, how='outer')\n",
    "print(df_union_1)\n",
    "print('----------------------------------------')\n",
    "df_union_2 = pd.merge(df, df2, how='right')\n",
    "print(df_union_2)"
   ]
  },
  {
   "attachments": {},
   "cell_type": "markdown",
   "metadata": {},
   "source": [
    "### 2.2 多级索引"
   ]
  },
  {
   "cell_type": "code",
   "execution_count": 292,
   "metadata": {},
   "outputs": [
    {
     "data": {
      "text/html": [
       "<div>\n",
       "<style scoped>\n",
       "    .dataframe tbody tr th:only-of-type {\n",
       "        vertical-align: middle;\n",
       "    }\n",
       "\n",
       "    .dataframe tbody tr th {\n",
       "        vertical-align: top;\n",
       "    }\n",
       "\n",
       "    .dataframe thead th {\n",
       "        text-align: right;\n",
       "    }\n",
       "</style>\n",
       "<table border=\"1\" class=\"dataframe\">\n",
       "  <thead>\n",
       "    <tr style=\"text-align: right;\">\n",
       "      <th></th>\n",
       "      <th></th>\n",
       "      <th>Python</th>\n",
       "      <th>C++</th>\n",
       "      <th>Java</th>\n",
       "    </tr>\n",
       "  </thead>\n",
       "  <tbody>\n",
       "    <tr>\n",
       "      <th rowspan=\"2\" valign=\"top\">张三</th>\n",
       "      <th>期中</th>\n",
       "      <td>3</td>\n",
       "      <td>21</td>\n",
       "      <td>33</td>\n",
       "    </tr>\n",
       "    <tr>\n",
       "      <th>期末</th>\n",
       "      <td>108</td>\n",
       "      <td>43</td>\n",
       "      <td>94</td>\n",
       "    </tr>\n",
       "    <tr>\n",
       "      <th rowspan=\"2\" valign=\"top\">李四</th>\n",
       "      <th>期中</th>\n",
       "      <td>100</td>\n",
       "      <td>2</td>\n",
       "      <td>3</td>\n",
       "    </tr>\n",
       "    <tr>\n",
       "      <th>期末</th>\n",
       "      <td>95</td>\n",
       "      <td>140</td>\n",
       "      <td>24</td>\n",
       "    </tr>\n",
       "    <tr>\n",
       "      <th rowspan=\"2\" valign=\"top\">王五</th>\n",
       "      <th>期中</th>\n",
       "      <td>82</td>\n",
       "      <td>35</td>\n",
       "      <td>128</td>\n",
       "    </tr>\n",
       "    <tr>\n",
       "      <th>期末</th>\n",
       "      <td>91</td>\n",
       "      <td>101</td>\n",
       "      <td>135</td>\n",
       "    </tr>\n",
       "  </tbody>\n",
       "</table>\n",
       "</div>"
      ],
      "text/plain": [
       "       Python  C++  Java\n",
       "张三 期中       3   21    33\n",
       "   期末     108   43    94\n",
       "李四 期中     100    2     3\n",
       "   期末      95  140    24\n",
       "王五 期中      82   35   128\n",
       "   期末      91  101   135"
      ]
     },
     "execution_count": 292,
     "metadata": {},
     "output_type": "execute_result"
    }
   ],
   "source": [
    "# 构建多级索引DataFrame\n",
    "# int数据由 np.random.randint(0, 150, size=(6, 3) 产生\n",
    "# from tuples, from_arrays, from_product\n",
    "import numpy as np\n",
    "import pandas as pd\n",
    "\n",
    "df3 = pd.DataFrame(np.random.randint(0, 150, size=(6, 3)),\n",
    "                  columns=[\"Python\", \"C++\", \"Java\"],\n",
    "                  index=pd.MultiIndex.from_product([['张三', '李四', '王五'],\n",
    "                                                  ['期中', '期末']]))\n",
    "df3"
   ]
  },
  {
   "attachments": {},
   "cell_type": "markdown",
   "metadata": {},
   "source": [
    "实现变换df3为三重索引的serial。(0.5分)"
   ]
  },
  {
   "cell_type": "code",
   "execution_count": 293,
   "metadata": {},
   "outputs": [
    {
     "name": "stdout",
     "output_type": "stream",
     "text": [
      "张三  期中  Python      3\n",
      "        C++        21\n",
      "        Java       33\n",
      "    期末  Python    108\n",
      "        C++        43\n",
      "        Java       94\n",
      "李四  期中  Python    100\n",
      "        C++         2\n",
      "        Java        3\n",
      "    期末  Python     95\n",
      "        C++       140\n",
      "        Java       24\n",
      "王五  期中  Python     82\n",
      "        C++        35\n",
      "        Java      128\n",
      "    期末  Python     91\n",
      "        C++       101\n",
      "        Java      135\n",
      "dtype: int32\n"
     ]
    }
   ],
   "source": [
    "# TODO\n",
    "df3_serial = pd.Series(df3.values.reshape(-1), \n",
    "    index=pd.MultiIndex.from_product([*df3.index.levels, list(df3.columns)])\n",
    "        )\n",
    "print(df3_serial)"
   ]
  },
  {
   "attachments": {},
   "cell_type": "markdown",
   "metadata": {},
   "source": [
    "按期中40%，期末60%的比例，计算输出每位同学每门功课的总评成绩表。（0.5分）"
   ]
  },
  {
   "cell_type": "code",
   "execution_count": 294,
   "metadata": {},
   "outputs": [
    {
     "name": "stderr",
     "output_type": "stream",
     "text": [
      "e:\\Anaconda3\\envs\\gomoku\\lib\\site-packages\\ipykernel_launcher.py:5: FutureWarning: Using the level keyword in DataFrame and Series aggregations is deprecated and will be removed in a future version. Use groupby instead. df.sum(level=1) should use df.groupby(level=1).sum().\n",
      "  \"\"\"\n"
     ]
    },
    {
     "data": {
      "text/html": [
       "<div>\n",
       "<style scoped>\n",
       "    .dataframe tbody tr th:only-of-type {\n",
       "        vertical-align: middle;\n",
       "    }\n",
       "\n",
       "    .dataframe tbody tr th {\n",
       "        vertical-align: top;\n",
       "    }\n",
       "\n",
       "    .dataframe thead th {\n",
       "        text-align: right;\n",
       "    }\n",
       "</style>\n",
       "<table border=\"1\" class=\"dataframe\">\n",
       "  <thead>\n",
       "    <tr style=\"text-align: right;\">\n",
       "      <th></th>\n",
       "      <th>Python</th>\n",
       "      <th>C++</th>\n",
       "      <th>Java</th>\n",
       "    </tr>\n",
       "  </thead>\n",
       "  <tbody>\n",
       "    <tr>\n",
       "      <th>张三</th>\n",
       "      <td>66.0</td>\n",
       "      <td>34.2</td>\n",
       "      <td>69.6</td>\n",
       "    </tr>\n",
       "    <tr>\n",
       "      <th>李四</th>\n",
       "      <td>97.0</td>\n",
       "      <td>84.8</td>\n",
       "      <td>15.6</td>\n",
       "    </tr>\n",
       "    <tr>\n",
       "      <th>王五</th>\n",
       "      <td>87.4</td>\n",
       "      <td>74.6</td>\n",
       "      <td>132.2</td>\n",
       "    </tr>\n",
       "  </tbody>\n",
       "</table>\n",
       "</div>"
      ],
      "text/plain": [
       "    Python   C++   Java\n",
       "张三    66.0  34.2   69.6\n",
       "李四    97.0  84.8   15.6\n",
       "王五    87.4  74.6  132.2"
      ]
     },
     "execution_count": 294,
     "metadata": {},
     "output_type": "execute_result"
    }
   ],
   "source": [
    "# TODO\n",
    "df3_final = df3.copy()\n",
    "df3_final.loc[(slice(None), '期中'), :] *= 0.4\n",
    "df3_final.loc[(slice(None), '期末'), :] *= 0.6\n",
    "df3_final = df3_final.sum(axis=0, level=0)\n",
    "df3_final"
   ]
  },
  {
   "attachments": {},
   "cell_type": "markdown",
   "metadata": {},
   "source": [
    "计算输出每门功课的最高分，最低分，以及平均分数表（课程名做行索引，列名用最高分，最低分，平均分数）。（0.5分）"
   ]
  },
  {
   "cell_type": "code",
   "execution_count": 295,
   "metadata": {},
   "outputs": [
    {
     "data": {
      "text/html": [
       "<div>\n",
       "<style scoped>\n",
       "    .dataframe tbody tr th:only-of-type {\n",
       "        vertical-align: middle;\n",
       "    }\n",
       "\n",
       "    .dataframe tbody tr th {\n",
       "        vertical-align: top;\n",
       "    }\n",
       "\n",
       "    .dataframe thead th {\n",
       "        text-align: right;\n",
       "    }\n",
       "</style>\n",
       "<table border=\"1\" class=\"dataframe\">\n",
       "  <thead>\n",
       "    <tr style=\"text-align: right;\">\n",
       "      <th></th>\n",
       "      <th>最高分</th>\n",
       "      <th>最低分</th>\n",
       "      <th>平均分数</th>\n",
       "    </tr>\n",
       "  </thead>\n",
       "  <tbody>\n",
       "    <tr>\n",
       "      <th>Python</th>\n",
       "      <td>97.0</td>\n",
       "      <td>66.0</td>\n",
       "      <td>83.466667</td>\n",
       "    </tr>\n",
       "    <tr>\n",
       "      <th>C++</th>\n",
       "      <td>84.8</td>\n",
       "      <td>34.2</td>\n",
       "      <td>64.533333</td>\n",
       "    </tr>\n",
       "    <tr>\n",
       "      <th>Java</th>\n",
       "      <td>132.2</td>\n",
       "      <td>15.6</td>\n",
       "      <td>72.466667</td>\n",
       "    </tr>\n",
       "  </tbody>\n",
       "</table>\n",
       "</div>"
      ],
      "text/plain": [
       "          最高分   最低分       平均分数\n",
       "Python   97.0  66.0  83.466667\n",
       "C++      84.8  34.2  64.533333\n",
       "Java    132.2  15.6  72.466667"
      ]
     },
     "execution_count": 295,
     "metadata": {},
     "output_type": "execute_result"
    }
   ],
   "source": [
    "# TODO\n",
    "df3_final_2 = df3_final.T\n",
    "df3_final_2_max = df3_final_2.max(axis=1)\n",
    "df3_final_2_min = df3_final_2.min(axis=1)\n",
    "df3_final_2_avg = df3_final_2.mean(axis=1)\n",
    "df3_final_2 = pd.concat([df3_final_2_max, df3_final_2_min, df3_final_2_avg], axis=1)\n",
    "df3_final_2.columns = ['最高分', '最低分', '平均分数']\n",
    "df3_final_2"
   ]
  },
  {
   "attachments": {},
   "cell_type": "markdown",
   "metadata": {},
   "source": [
    "## 第三部分 Pandas数据分析（3分）"
   ]
  },
  {
   "attachments": {},
   "cell_type": "markdown",
   "metadata": {},
   "source": [
    "使用Pandas的read_csv函数读取 IBM_2006-01-01_to_2018-01-01.csv 中的数据，得到一个DataFrame，通过shape和info()查看数据基本信息，并打印该数据的前10行观察一下。该数据列索引对应的分别是：日期，开盘价，最高价，最低价，收盘价，成交量，股票名称。（0.5分）"
   ]
  },
  {
   "cell_type": "code",
   "execution_count": 314,
   "metadata": {},
   "outputs": [
    {
     "name": "stdout",
     "output_type": "stream",
     "text": [
      "(3020, 7)\n",
      "<class 'pandas.core.frame.DataFrame'>\n",
      "RangeIndex: 3020 entries, 0 to 3019\n",
      "Data columns (total 7 columns):\n",
      " #   Column  Non-Null Count  Dtype  \n",
      "---  ------  --------------  -----  \n",
      " 0   Date    3020 non-null   object \n",
      " 1   Open    3019 non-null   float64\n",
      " 2   High    3020 non-null   float64\n",
      " 3   Low     3019 non-null   float64\n",
      " 4   Close   3020 non-null   float64\n",
      " 5   Volume  3020 non-null   int64  \n",
      " 6   Name    3020 non-null   object \n",
      "dtypes: float64(4), int64(1), object(2)\n",
      "memory usage: 165.3+ KB\n",
      "None\n",
      "         Date   Open   High    Low  Close    Volume Name\n",
      "0  2006-01-03  82.45  82.55  80.81  82.06  11715200  IBM\n",
      "1  2006-01-04  82.20  82.50  81.33  81.95   9840600  IBM\n",
      "2  2006-01-05  81.40  82.90  81.00  82.50   7213500  IBM\n",
      "3  2006-01-06  83.95  85.03  83.41  84.95   8197400  IBM\n",
      "4  2006-01-09  84.10  84.25  83.38  83.73   6858200  IBM\n",
      "5  2006-01-10  83.15  84.12  83.12  84.07   5701000  IBM\n",
      "6  2006-01-11  84.37  84.81  83.40  84.17   5776500  IBM\n",
      "7  2006-01-12  83.82  83.96  83.40  83.57   4926500  IBM\n",
      "8  2006-01-13  83.00  83.45  82.50  83.17   6921700  IBM\n",
      "9  2006-01-17  82.80  83.16  82.54  83.00   8761700  IBM\n"
     ]
    }
   ],
   "source": [
    "import pandas as pd\n",
    "\n",
    "IBM_file = 'IBM_2006-01-01_to_2018-01-01.csv'\n",
    "# TODO\n",
    "df = pd.read_csv(IBM_file)\n",
    "print(df.shape)\n",
    "print(df.info())\n",
    "print(df.head(10))"
   ]
  },
  {
   "attachments": {},
   "cell_type": "markdown",
   "metadata": {},
   "source": [
    "观察到Open与Low这两列相比其他列都缺了一项，请删除DataFrame中所有不完整的数据。（0.5分）"
   ]
  },
  {
   "cell_type": "code",
   "execution_count": 315,
   "metadata": {},
   "outputs": [
    {
     "data": {
      "text/html": [
       "<div>\n",
       "<style scoped>\n",
       "    .dataframe tbody tr th:only-of-type {\n",
       "        vertical-align: middle;\n",
       "    }\n",
       "\n",
       "    .dataframe tbody tr th {\n",
       "        vertical-align: top;\n",
       "    }\n",
       "\n",
       "    .dataframe thead th {\n",
       "        text-align: right;\n",
       "    }\n",
       "</style>\n",
       "<table border=\"1\" class=\"dataframe\">\n",
       "  <thead>\n",
       "    <tr style=\"text-align: right;\">\n",
       "      <th></th>\n",
       "      <th>Date</th>\n",
       "      <th>Open</th>\n",
       "      <th>High</th>\n",
       "      <th>Low</th>\n",
       "      <th>Close</th>\n",
       "      <th>Volume</th>\n",
       "      <th>Name</th>\n",
       "    </tr>\n",
       "  </thead>\n",
       "  <tbody>\n",
       "    <tr>\n",
       "      <th>0</th>\n",
       "      <td>2006-01-03</td>\n",
       "      <td>82.45</td>\n",
       "      <td>82.55</td>\n",
       "      <td>80.81</td>\n",
       "      <td>82.06</td>\n",
       "      <td>11715200</td>\n",
       "      <td>IBM</td>\n",
       "    </tr>\n",
       "    <tr>\n",
       "      <th>1</th>\n",
       "      <td>2006-01-04</td>\n",
       "      <td>82.20</td>\n",
       "      <td>82.50</td>\n",
       "      <td>81.33</td>\n",
       "      <td>81.95</td>\n",
       "      <td>9840600</td>\n",
       "      <td>IBM</td>\n",
       "    </tr>\n",
       "    <tr>\n",
       "      <th>2</th>\n",
       "      <td>2006-01-05</td>\n",
       "      <td>81.40</td>\n",
       "      <td>82.90</td>\n",
       "      <td>81.00</td>\n",
       "      <td>82.50</td>\n",
       "      <td>7213500</td>\n",
       "      <td>IBM</td>\n",
       "    </tr>\n",
       "    <tr>\n",
       "      <th>3</th>\n",
       "      <td>2006-01-06</td>\n",
       "      <td>83.95</td>\n",
       "      <td>85.03</td>\n",
       "      <td>83.41</td>\n",
       "      <td>84.95</td>\n",
       "      <td>8197400</td>\n",
       "      <td>IBM</td>\n",
       "    </tr>\n",
       "    <tr>\n",
       "      <th>4</th>\n",
       "      <td>2006-01-09</td>\n",
       "      <td>84.10</td>\n",
       "      <td>84.25</td>\n",
       "      <td>83.38</td>\n",
       "      <td>83.73</td>\n",
       "      <td>6858200</td>\n",
       "      <td>IBM</td>\n",
       "    </tr>\n",
       "    <tr>\n",
       "      <th>...</th>\n",
       "      <td>...</td>\n",
       "      <td>...</td>\n",
       "      <td>...</td>\n",
       "      <td>...</td>\n",
       "      <td>...</td>\n",
       "      <td>...</td>\n",
       "      <td>...</td>\n",
       "    </tr>\n",
       "    <tr>\n",
       "      <th>3015</th>\n",
       "      <td>2017-12-22</td>\n",
       "      <td>151.82</td>\n",
       "      <td>153.00</td>\n",
       "      <td>151.50</td>\n",
       "      <td>152.50</td>\n",
       "      <td>2990583</td>\n",
       "      <td>IBM</td>\n",
       "    </tr>\n",
       "    <tr>\n",
       "      <th>3016</th>\n",
       "      <td>2017-12-26</td>\n",
       "      <td>152.51</td>\n",
       "      <td>153.86</td>\n",
       "      <td>152.50</td>\n",
       "      <td>152.83</td>\n",
       "      <td>2479017</td>\n",
       "      <td>IBM</td>\n",
       "    </tr>\n",
       "    <tr>\n",
       "      <th>3017</th>\n",
       "      <td>2017-12-27</td>\n",
       "      <td>152.95</td>\n",
       "      <td>153.18</td>\n",
       "      <td>152.61</td>\n",
       "      <td>153.13</td>\n",
       "      <td>2149257</td>\n",
       "      <td>IBM</td>\n",
       "    </tr>\n",
       "    <tr>\n",
       "      <th>3018</th>\n",
       "      <td>2017-12-28</td>\n",
       "      <td>153.20</td>\n",
       "      <td>154.12</td>\n",
       "      <td>153.20</td>\n",
       "      <td>154.04</td>\n",
       "      <td>2687624</td>\n",
       "      <td>IBM</td>\n",
       "    </tr>\n",
       "    <tr>\n",
       "      <th>3019</th>\n",
       "      <td>2017-12-29</td>\n",
       "      <td>154.17</td>\n",
       "      <td>154.72</td>\n",
       "      <td>153.42</td>\n",
       "      <td>153.42</td>\n",
       "      <td>3327087</td>\n",
       "      <td>IBM</td>\n",
       "    </tr>\n",
       "  </tbody>\n",
       "</table>\n",
       "<p>3019 rows × 7 columns</p>\n",
       "</div>"
      ],
      "text/plain": [
       "            Date    Open    High     Low   Close    Volume Name\n",
       "0     2006-01-03   82.45   82.55   80.81   82.06  11715200  IBM\n",
       "1     2006-01-04   82.20   82.50   81.33   81.95   9840600  IBM\n",
       "2     2006-01-05   81.40   82.90   81.00   82.50   7213500  IBM\n",
       "3     2006-01-06   83.95   85.03   83.41   84.95   8197400  IBM\n",
       "4     2006-01-09   84.10   84.25   83.38   83.73   6858200  IBM\n",
       "...          ...     ...     ...     ...     ...       ...  ...\n",
       "3015  2017-12-22  151.82  153.00  151.50  152.50   2990583  IBM\n",
       "3016  2017-12-26  152.51  153.86  152.50  152.83   2479017  IBM\n",
       "3017  2017-12-27  152.95  153.18  152.61  153.13   2149257  IBM\n",
       "3018  2017-12-28  153.20  154.12  153.20  154.04   2687624  IBM\n",
       "3019  2017-12-29  154.17  154.72  153.42  153.42   3327087  IBM\n",
       "\n",
       "[3019 rows x 7 columns]"
      ]
     },
     "execution_count": 315,
     "metadata": {},
     "output_type": "execute_result"
    }
   ],
   "source": [
    "# TODO\n",
    "df_drop_null = df.dropna(axis='index', how='any')\n",
    "df_drop_null"
   ]
  },
  {
   "attachments": {},
   "cell_type": "markdown",
   "metadata": {},
   "source": [
    "由于股市周末和节假日不开盘，日期为2006-01-06的下一条数据就是2006-01-09，缺少了中间两天的数据。请将所有缺少的数据按照以下规则补充：成交量（volume）填充为零，开盘价等价格与前一天（最近的有数据的一天）保持相同。（0.5分）\n",
    "\n",
    "提示：使用pandas.date_range生成时间序列"
   ]
  },
  {
   "cell_type": "code",
   "execution_count": 358,
   "metadata": {},
   "outputs": [
    {
     "data": {
      "text/html": [
       "<div>\n",
       "<style scoped>\n",
       "    .dataframe tbody tr th:only-of-type {\n",
       "        vertical-align: middle;\n",
       "    }\n",
       "\n",
       "    .dataframe tbody tr th {\n",
       "        vertical-align: top;\n",
       "    }\n",
       "\n",
       "    .dataframe thead th {\n",
       "        text-align: right;\n",
       "    }\n",
       "</style>\n",
       "<table border=\"1\" class=\"dataframe\">\n",
       "  <thead>\n",
       "    <tr style=\"text-align: right;\">\n",
       "      <th></th>\n",
       "      <th>Date</th>\n",
       "      <th>Open</th>\n",
       "      <th>High</th>\n",
       "      <th>Low</th>\n",
       "      <th>Close</th>\n",
       "      <th>Volume</th>\n",
       "      <th>Name</th>\n",
       "    </tr>\n",
       "  </thead>\n",
       "  <tbody>\n",
       "    <tr>\n",
       "      <th>0</th>\n",
       "      <td>2006-01-03</td>\n",
       "      <td>82.45</td>\n",
       "      <td>82.55</td>\n",
       "      <td>80.81</td>\n",
       "      <td>82.06</td>\n",
       "      <td>11715200</td>\n",
       "      <td>IBM</td>\n",
       "    </tr>\n",
       "    <tr>\n",
       "      <th>1</th>\n",
       "      <td>2006-01-04</td>\n",
       "      <td>82.20</td>\n",
       "      <td>82.50</td>\n",
       "      <td>81.33</td>\n",
       "      <td>81.95</td>\n",
       "      <td>9840600</td>\n",
       "      <td>IBM</td>\n",
       "    </tr>\n",
       "    <tr>\n",
       "      <th>2</th>\n",
       "      <td>2006-01-05</td>\n",
       "      <td>81.40</td>\n",
       "      <td>82.90</td>\n",
       "      <td>81.00</td>\n",
       "      <td>82.50</td>\n",
       "      <td>7213500</td>\n",
       "      <td>IBM</td>\n",
       "    </tr>\n",
       "    <tr>\n",
       "      <th>3</th>\n",
       "      <td>2006-01-06</td>\n",
       "      <td>83.95</td>\n",
       "      <td>85.03</td>\n",
       "      <td>83.41</td>\n",
       "      <td>84.95</td>\n",
       "      <td>8197400</td>\n",
       "      <td>IBM</td>\n",
       "    </tr>\n",
       "    <tr>\n",
       "      <th>3020</th>\n",
       "      <td>2006-01-07</td>\n",
       "      <td>83.95</td>\n",
       "      <td>85.03</td>\n",
       "      <td>83.41</td>\n",
       "      <td>84.95</td>\n",
       "      <td>0</td>\n",
       "      <td>IBM</td>\n",
       "    </tr>\n",
       "    <tr>\n",
       "      <th>...</th>\n",
       "      <td>...</td>\n",
       "      <td>...</td>\n",
       "      <td>...</td>\n",
       "      <td>...</td>\n",
       "      <td>...</td>\n",
       "      <td>...</td>\n",
       "      <td>...</td>\n",
       "    </tr>\n",
       "    <tr>\n",
       "      <th>4378</th>\n",
       "      <td>2017-12-25</td>\n",
       "      <td>151.82</td>\n",
       "      <td>153.00</td>\n",
       "      <td>151.50</td>\n",
       "      <td>152.50</td>\n",
       "      <td>0</td>\n",
       "      <td>IBM</td>\n",
       "    </tr>\n",
       "    <tr>\n",
       "      <th>3016</th>\n",
       "      <td>2017-12-26</td>\n",
       "      <td>152.51</td>\n",
       "      <td>153.86</td>\n",
       "      <td>152.50</td>\n",
       "      <td>152.83</td>\n",
       "      <td>2479017</td>\n",
       "      <td>IBM</td>\n",
       "    </tr>\n",
       "    <tr>\n",
       "      <th>3017</th>\n",
       "      <td>2017-12-27</td>\n",
       "      <td>152.95</td>\n",
       "      <td>153.18</td>\n",
       "      <td>152.61</td>\n",
       "      <td>153.13</td>\n",
       "      <td>2149257</td>\n",
       "      <td>IBM</td>\n",
       "    </tr>\n",
       "    <tr>\n",
       "      <th>3018</th>\n",
       "      <td>2017-12-28</td>\n",
       "      <td>153.20</td>\n",
       "      <td>154.12</td>\n",
       "      <td>153.20</td>\n",
       "      <td>154.04</td>\n",
       "      <td>2687624</td>\n",
       "      <td>IBM</td>\n",
       "    </tr>\n",
       "    <tr>\n",
       "      <th>3019</th>\n",
       "      <td>2017-12-29</td>\n",
       "      <td>154.17</td>\n",
       "      <td>154.72</td>\n",
       "      <td>153.42</td>\n",
       "      <td>153.42</td>\n",
       "      <td>3327087</td>\n",
       "      <td>IBM</td>\n",
       "    </tr>\n",
       "  </tbody>\n",
       "</table>\n",
       "<p>4379 rows × 7 columns</p>\n",
       "</div>"
      ],
      "text/plain": [
       "            Date    Open    High     Low   Close    Volume Name\n",
       "0     2006-01-03   82.45   82.55   80.81   82.06  11715200  IBM\n",
       "1     2006-01-04   82.20   82.50   81.33   81.95   9840600  IBM\n",
       "2     2006-01-05   81.40   82.90   81.00   82.50   7213500  IBM\n",
       "3     2006-01-06   83.95   85.03   83.41   84.95   8197400  IBM\n",
       "3020  2006-01-07   83.95   85.03   83.41   84.95         0  IBM\n",
       "...          ...     ...     ...     ...     ...       ...  ...\n",
       "4378  2017-12-25  151.82  153.00  151.50  152.50         0  IBM\n",
       "3016  2017-12-26  152.51  153.86  152.50  152.83   2479017  IBM\n",
       "3017  2017-12-27  152.95  153.18  152.61  153.13   2149257  IBM\n",
       "3018  2017-12-28  153.20  154.12  153.20  154.04   2687624  IBM\n",
       "3019  2017-12-29  154.17  154.72  153.42  153.42   3327087  IBM\n",
       "\n",
       "[4379 rows x 7 columns]"
      ]
     },
     "execution_count": 358,
     "metadata": {},
     "output_type": "execute_result"
    }
   ],
   "source": [
    "# TODO\n",
    "new_df = df.copy()\n",
    "for i in range(len(df.index)-1):\n",
    "    dts = pd.date_range(df['Date'][df.index[i]], df['Date'][df.index[i+1]])\n",
    "    if len(dts) != 2:\n",
    "        for dt in dts[1:-1]:\n",
    "            new_df = pd.concat([new_df, df.iloc[i:i+1]], ignore_index=True)\n",
    "            new_df.iloc[-1:, 0] = str(dt)[:-9]\n",
    "            new_df.iloc[-1:, -2] = 0\n",
    "new_df = new_df.sort_values('Date')\n",
    "new_df"
   ]
  },
  {
   "attachments": {},
   "cell_type": "markdown",
   "metadata": {},
   "source": [
    "在DataFrame中按月份聚合，计算一年当中每个月的成交量总和，以及每个月收盘价的次高值。(1分)\n",
    "\n",
    "提示：可以通过apply方法实现自定义的聚合函数。（有多个相同值的话，这里先简单地按照排完序取下标第二个就行了）"
   ]
  },
  {
   "cell_type": "code",
   "execution_count": 372,
   "metadata": {},
   "outputs": [
    {
     "name": "stdout",
     "output_type": "stream",
     "text": [
      "------成交量总和------\n",
      "Month\n",
      "2006-01    146611300\n",
      "2006-02    111061200\n",
      "2006-03    111811000\n",
      "2006-04    114030800\n",
      "2006-05    113238100\n",
      "             ...    \n",
      "2017-08     80295410\n",
      "2017-09     78281970\n",
      "2017-10    121897687\n",
      "2017-11     89776130\n",
      "2017-12     88788538\n",
      "Length: 144, dtype: int64\n",
      "-----收盘价次高值-----\n",
      "Month\n",
      "2006-01     84.46\n",
      "2006-02     81.35\n",
      "2006-03     83.81\n",
      "2006-04     83.88\n",
      "2006-05     83.23\n",
      "            ...  \n",
      "2017-08    145.16\n",
      "2017-09    145.99\n",
      "2017-10    160.90\n",
      "2017-11    153.97\n",
      "2017-12    156.46\n",
      "Length: 144, dtype: float64\n"
     ]
    }
   ],
   "source": [
    "# TODO\n",
    "df_pregroup = df.copy()\n",
    "df_pregroup.insert(1, 'Month', None)\n",
    "df_pregroup['Month'] = ((lambda x: [i[:7] for i in x])(df_pregroup['Date']))\n",
    "df_grouped = df_pregroup.groupby('Month')\n",
    "print('------成交量总和------')\n",
    "d = df_grouped.apply(lambda x: x.sum()['Volume'])\n",
    "print(d)\n",
    "print('-----收盘价次高值-----')\n",
    "d_2 = df_grouped.apply(lambda x: x.sort_values('Close', ascending=False).iloc[1, -3])\n",
    "print(d_2)"
   ]
  },
  {
   "attachments": {},
   "cell_type": "markdown",
   "metadata": {},
   "source": [
    "读取AMZN_2006-01-01_to_2018-01-01.csv，其中包含了Amazon的股票数据。\n",
    "请以Date作为索引，'IBM'和'AMZN'作为列索引，构建一个Dataframe，其中的数据为两家公司每天的股票收盘价。（0.5分）"
   ]
  },
  {
   "cell_type": "code",
   "execution_count": 392,
   "metadata": {},
   "outputs": [
    {
     "data": {
      "text/html": [
       "<div>\n",
       "<style scoped>\n",
       "    .dataframe tbody tr th:only-of-type {\n",
       "        vertical-align: middle;\n",
       "    }\n",
       "\n",
       "    .dataframe tbody tr th {\n",
       "        vertical-align: top;\n",
       "    }\n",
       "\n",
       "    .dataframe thead th {\n",
       "        text-align: right;\n",
       "    }\n",
       "</style>\n",
       "<table border=\"1\" class=\"dataframe\">\n",
       "  <thead>\n",
       "    <tr style=\"text-align: right;\">\n",
       "      <th></th>\n",
       "      <th>AMZN</th>\n",
       "      <th>IBM</th>\n",
       "    </tr>\n",
       "    <tr>\n",
       "      <th>Date</th>\n",
       "      <th></th>\n",
       "      <th></th>\n",
       "    </tr>\n",
       "  </thead>\n",
       "  <tbody>\n",
       "    <tr>\n",
       "      <th>2006-01-03</th>\n",
       "      <td>47.58</td>\n",
       "      <td>82.06</td>\n",
       "    </tr>\n",
       "    <tr>\n",
       "      <th>2006-01-04</th>\n",
       "      <td>47.25</td>\n",
       "      <td>81.95</td>\n",
       "    </tr>\n",
       "    <tr>\n",
       "      <th>2006-01-05</th>\n",
       "      <td>47.65</td>\n",
       "      <td>82.50</td>\n",
       "    </tr>\n",
       "    <tr>\n",
       "      <th>2006-01-06</th>\n",
       "      <td>47.87</td>\n",
       "      <td>84.95</td>\n",
       "    </tr>\n",
       "    <tr>\n",
       "      <th>2006-01-09</th>\n",
       "      <td>47.08</td>\n",
       "      <td>83.73</td>\n",
       "    </tr>\n",
       "    <tr>\n",
       "      <th>...</th>\n",
       "      <td>...</td>\n",
       "      <td>...</td>\n",
       "    </tr>\n",
       "    <tr>\n",
       "      <th>2017-12-26</th>\n",
       "      <td>1176.76</td>\n",
       "      <td>152.83</td>\n",
       "    </tr>\n",
       "    <tr>\n",
       "      <th>2017-12-27</th>\n",
       "      <td>1182.26</td>\n",
       "      <td>153.13</td>\n",
       "    </tr>\n",
       "    <tr>\n",
       "      <th>2017-12-28</th>\n",
       "      <td>1186.10</td>\n",
       "      <td>154.04</td>\n",
       "    </tr>\n",
       "    <tr>\n",
       "      <th>2017-12-29</th>\n",
       "      <td>1169.47</td>\n",
       "      <td>153.42</td>\n",
       "    </tr>\n",
       "    <tr>\n",
       "      <th>2010-04-01</th>\n",
       "      <td>NaN</td>\n",
       "      <td>128.25</td>\n",
       "    </tr>\n",
       "  </tbody>\n",
       "</table>\n",
       "<p>3020 rows × 2 columns</p>\n",
       "</div>"
      ],
      "text/plain": [
       "               AMZN     IBM\n",
       "Date                       \n",
       "2006-01-03    47.58   82.06\n",
       "2006-01-04    47.25   81.95\n",
       "2006-01-05    47.65   82.50\n",
       "2006-01-06    47.87   84.95\n",
       "2006-01-09    47.08   83.73\n",
       "...             ...     ...\n",
       "2017-12-26  1176.76  152.83\n",
       "2017-12-27  1182.26  153.13\n",
       "2017-12-28  1186.10  154.04\n",
       "2017-12-29  1169.47  153.42\n",
       "2010-04-01      NaN  128.25\n",
       "\n",
       "[3020 rows x 2 columns]"
      ]
     },
     "execution_count": 392,
     "metadata": {},
     "output_type": "execute_result"
    }
   ],
   "source": [
    "AMZN_file = 'AMZN_2006-01-01_to_2018-01-01.csv'\n",
    "IBM_file = 'IBM_2006-01-01_to_2018-01-01.csv'\n",
    "\n",
    "AMZN_data = pd.read_csv(AMZN_file)\n",
    "IBM_data = pd.read_csv(IBM_file)\n",
    "\n",
    "# TODO\n",
    "AMZN_data_reset = AMZN_data[['Date', 'Close']].rename(columns={'Close':'AMZN'})\n",
    "IBM_data_reset = IBM_data[['Date', 'Close']].rename(columns={'Close':'IBM'})\n",
    "data_union = pd.merge(AMZN_data_reset, IBM_data_reset, how='outer').set_index('Date')\n",
    "data_union"
   ]
  }
 ],
 "metadata": {
  "kernelspec": {
   "display_name": "Python 3.10.6 64-bit",
   "language": "python",
   "name": "python3"
  },
  "language_info": {
   "codemirror_mode": {
    "name": "ipython",
    "version": 3
   },
   "file_extension": ".py",
   "mimetype": "text/x-python",
   "name": "python",
   "nbconvert_exporter": "python",
   "pygments_lexer": "ipython3",
   "version": "3.7.13"
  },
  "vscode": {
   "interpreter": {
    "hash": "6891761e72bd517fc75ef79bbfbd44fa55381d267274edf38a396be6b565a3c5"
   }
  }
 },
 "nbformat": 4,
 "nbformat_minor": 4
}
